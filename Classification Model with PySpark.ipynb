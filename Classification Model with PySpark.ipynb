{
 "cells": [
  {
   "cell_type": "code",
   "execution_count": 62,
   "id": "f87217b7",
   "metadata": {},
   "outputs": [],
   "source": [
    "###IMPORTING THE LIBRARIES\n",
    "from pyspark.sql import SparkSession\n",
    "from pyspark.ml.classification import RandomForestClassifier\n",
    "from pyspark.sql.functions import col,sum,avg,round,monotonically_increasing_id,lit,filter\n",
    "from pyspark.ml.feature import VectorAssembler\n",
    "from pyspark.ml import Pipeline\n",
    "from pyspark.ml.evaluation import MulticlassClassificationEvaluator\n",
    "from pyspark.ml.tuning import TrainValidationSplit, ParamGridBuilder\n",
    "#CREATING THE SESSION\n",
    "sesion=SparkSession.builder.appName(\"sesion\").getOrCreate()"
   ]
  },
  {
   "cell_type": "code",
   "execution_count": 45,
   "id": "bccdc228",
   "metadata": {},
   "outputs": [
    {
     "name": "stdout",
     "output_type": "stream",
     "text": [
      "+---------+----------+--------+-----------+---------+------+---+------+---------+-------------+---------+--------------+---------------+------+\n",
      "|RowNumber|CustomerId| Surname|CreditScore|Geography|Gender|Age|Tenure|  Balance|NumOfProducts|HasCrCard|IsActiveMember|EstimatedSalary|Exited|\n",
      "+---------+----------+--------+-----------+---------+------+---+------+---------+-------------+---------+--------------+---------------+------+\n",
      "|        1|  15634602|Hargrave|        619|   France|Female| 42|     2|        0|            1|        1|             1|      101348.88|     1|\n",
      "|        2|  15647311|    Hill|        608|    Spain|Female| 41|     1| 83807.86|            1|        0|             1|      112542.58|     0|\n",
      "|        3|  15619304|    Onio|        502|   France|Female| 42|     8| 159660.8|            3|        1|             0|      113931.57|     1|\n",
      "|        4|  15701354|    Boni|        699|   France|Female| 39|     1|        0|            2|        0|             0|       93826.63|     0|\n",
      "|        5|  15737888|Mitchell|        850|    Spain|Female| 43|     2|125510.82|            1|        1|             1|        79084.1|     0|\n",
      "+---------+----------+--------+-----------+---------+------+---+------+---------+-------------+---------+--------------+---------------+------+\n",
      "only showing top 5 rows\n",
      "\n"
     ]
    }
   ],
   "source": [
    "df=sesion.read.csv(\"churn.csv\",header=True,sep=\",\")\n",
    "df.show(5)"
   ]
  },
  {
   "cell_type": "code",
   "execution_count": 46,
   "id": "298fd9a1",
   "metadata": {},
   "outputs": [
    {
     "data": {
      "image/png": "[encoded data removed]",
      "text/plain": [
       "<Figure size 1000x300 with 2 Axes>"
      ]
     },
     "metadata": {},
     "output_type": "display_data"
    }
   ],
   "source": [
    "#Analyzing the distributions of the categorical features\n",
    "\n",
    "import matplotlib.pyplot as plt\n",
    "import seaborn as sns\n",
    "\n",
    "df_pandas = df.select(\"Gender\", \"Geography\").toPandas()\n",
    "\n",
    "# Set up the figure size\n",
    "f, axes = plt.subplots(1, 2, figsize=(10, 3))\n",
    "\n",
    "# Create a count plot for the \"Gender\" column\n",
    "sns.countplot(data=df_pandas, x=\"Gender\", ax=axes[0])\n",
    "\n",
    "# Create a count plot for the \"Geography\" column\n",
    "sns.countplot(data=df_pandas, x=\"Geography\", ax=axes[1])\n",
    "\n",
    "# Display the plots\n",
    "plt.show()"
   ]
  },
  {
   "cell_type": "code",
   "execution_count": 52,
   "id": "0c475644",
   "metadata": {},
   "outputs": [
    {
     "name": "stdout",
     "output_type": "stream",
     "text": [
      "+---+------+---------+-------------+---------+--------------+---------------+------+\n",
      "|Age|Tenure|  Balance|NumOfProducts|HasCrCard|IsActiveMember|EstimatedSalary|Exited|\n",
      "+---+------+---------+-------------+---------+--------------+---------------+------+\n",
      "| 42|     2|        0|            1|        1|             1|      101348.88|     1|\n",
      "| 41|     1| 83807.86|            1|        0|             1|      112542.58|     0|\n",
      "| 42|     8| 159660.8|            3|        1|             0|      113931.57|     1|\n",
      "| 39|     1|        0|            2|        0|             0|       93826.63|     0|\n",
      "| 43|     2|125510.82|            1|        1|             1|        79084.1|     0|\n",
      "+---+------+---------+-------------+---------+--------------+---------------+------+\n",
      "only showing top 5 rows\n",
      "\n"
     ]
    }
   ],
   "source": [
    "#Dropping the columns that do not add value\n",
    "columns_to_drop = df.columns[0:3]\n",
    "df = df.drop(*columns_to_drop)\n",
    "df.show(5)"
   ]
  },
  {
   "cell_type": "code",
   "execution_count": 53,
   "id": "1e31a61e",
   "metadata": {},
   "outputs": [
    {
     "name": "stdout",
     "output_type": "stream",
     "text": [
      "rows: 10000 | columns: 8\n"
     ]
    }
   ],
   "source": [
    "#FINDING THE SHAPE OF THE DATA\n",
    "rows=df.count()\n",
    "columns=len(df.columns)\n",
    "print(f\"rows: {rows} | columns: {columns}\")"
   ]
  },
  {
   "cell_type": "code",
   "execution_count": 54,
   "id": "582ca5c8",
   "metadata": {},
   "outputs": [
    {
     "name": "stdout",
     "output_type": "stream",
     "text": [
      "root\n",
      " |-- Age: string (nullable = true)\n",
      " |-- Tenure: string (nullable = true)\n",
      " |-- Balance: string (nullable = true)\n",
      " |-- NumOfProducts: string (nullable = true)\n",
      " |-- HasCrCard: string (nullable = true)\n",
      " |-- IsActiveMember: string (nullable = true)\n",
      " |-- EstimatedSalary: string (nullable = true)\n",
      " |-- Exited: string (nullable = true)\n",
      "\n"
     ]
    }
   ],
   "source": [
    "#ANALYZING THE DATA\n",
    "df.printSchema()"
   ]
  },
  {
   "cell_type": "code",
   "execution_count": 55,
   "id": "0e0b53d0",
   "metadata": {},
   "outputs": [
    {
     "name": "stdout",
     "output_type": "stream",
     "text": [
      "+----+------+---------+-------------+---------+--------------+---------------+------+\n",
      "| Age|Tenure|  Balance|NumOfProducts|HasCrCard|IsActiveMember|EstimatedSalary|Exited|\n",
      "+----+------+---------+-------------+---------+--------------+---------------+------+\n",
      "|42.0|   2.0|      0.0|          1.0|      1.0|           1.0|      101348.88|   1.0|\n",
      "|41.0|   1.0| 83807.86|          1.0|      0.0|           1.0|      112542.58|   0.0|\n",
      "|42.0|   8.0| 159660.8|          3.0|      1.0|           0.0|      113931.57|   1.0|\n",
      "|39.0|   1.0|      0.0|          2.0|      0.0|           0.0|       93826.63|   0.0|\n",
      "|43.0|   2.0|125510.82|          1.0|      1.0|           1.0|        79084.1|   0.0|\n",
      "+----+------+---------+-------------+---------+--------------+---------------+------+\n",
      "only showing top 5 rows\n",
      "\n"
     ]
    }
   ],
   "source": [
    "##Converting all the columns to float\n",
    "from pyspark.sql.functions import col\n",
    "df = df.select([col(c).cast(\"float\").alias(c) for c in df.columns])\n",
    "df.show(5)"
   ]
  },
  {
   "cell_type": "code",
   "execution_count": 56,
   "id": "3b929715",
   "metadata": {},
   "outputs": [
    {
     "name": "stdout",
     "output_type": "stream",
     "text": [
      "+---------------+---------------+\n",
      "|         Column|Null_Percentage|\n",
      "+---------------+---------------+\n",
      "|            Age|            0.0|\n",
      "|         Tenure|            0.0|\n",
      "|        Balance|            0.0|\n",
      "|  NumOfProducts|            0.0|\n",
      "|      HasCrCard|            0.0|\n",
      "| IsActiveMember|            0.0|\n",
      "|EstimatedSalary|            0.0|\n",
      "|         Exited|            0.0|\n",
      "+---------------+---------------+\n",
      "\n"
     ]
    }
   ],
   "source": [
    "##FINDING THE % OF NULL VALUES\n",
    "from pyspark.sql import functions as F\n",
    "\n",
    "# Calcular el número total de filas\n",
    "total_rows = df.count()\n",
    "\n",
    "# Crear una lista de expresiones para calcular el porcentaje de valores nulos\n",
    "null_percentage_expr = [\n",
    "    round((F.sum(F.col(c).isNull().cast(\"int\")) / total_rows * 100), 1).alias(c) \n",
    "    for c in df.columns\n",
    "]\n",
    "\n",
    "# Aplicar las expresiones y obtener los porcentajes de valores nulos\n",
    "null_percentages_df = df.agg(*null_percentage_expr)\n",
    "\n",
    "# Convertir el DataFrame en formato de dos columnas (Columna, Porcentaje de Nulos)\n",
    "null_percentages = null_percentages_df.select(F.explode(F.array([\n",
    "    F.struct(F.lit(c).alias(\"Column\"), F.col(c).alias(\"Null_Percentage\")) \n",
    "    for c in df.columns\n",
    "]))).select(\"col.*\")\n",
    "\n",
    "# Ordenar el resultado en orden descendente por el porcentaje de valores nulos\n",
    "null_percentages.orderBy(F.col(\"Null_Percentage\").desc()).show()"
   ]
  },
  {
   "cell_type": "markdown",
   "id": "2d66a927",
   "metadata": {},
   "source": [
    "## CREATING THE MODEL"
   ]
  },
  {
   "cell_type": "code",
   "execution_count": 63,
   "id": "32bb2547",
   "metadata": {},
   "outputs": [],
   "source": [
    "# Creating a feature vector\n",
    "feature_columns = [col for col in df.columns if col != 'Exited']\n",
    "\n",
    "assembler = VectorAssembler(inputCols=feature_columns, outputCol=\"features\")\n",
    "\n",
    "# Creating a  pipeline\n",
    "pipeline = Pipeline(stages=[assembler])"
   ]
  },
  {
   "cell_type": "code",
   "execution_count": 66,
   "id": "5088828a",
   "metadata": {},
   "outputs": [],
   "source": [
    "# Applying the pipeline\n",
    "data_prepared = pipeline.fit(df).transform(df)\n",
    "\n",
    "#Splitting the data in train and test\n",
    "train_df, test_df = data_prepared.randomSplit([0.8, 0.2], seed=42)"
   ]
  },
  {
   "cell_type": "code",
   "execution_count": 72,
   "id": "834e9ef1",
   "metadata": {},
   "outputs": [
    {
     "name": "stdout",
     "output_type": "stream",
     "text": [
      "Accuracy: 85.4%\n",
      "F1 Score: 83.3%\n",
      "Precision: 85.8%\n",
      "Recall: 97.6%\n"
     ]
    }
   ],
   "source": [
    "# Create the RandomForest model\n",
    "rf = RandomForestClassifier(labelCol=\"Exited\", featuresCol=\"features\")\n",
    "\n",
    "# Define the evaluator\n",
    "evaluator = MulticlassClassificationEvaluator(\n",
    "    labelCol=\"Exited\", predictionCol=\"prediction\", metricName=\"accuracy\")\n",
    "\n",
    "# Create and train the model\n",
    "rf_model = rf.fit(train_df)\n",
    "\n",
    "# Make predictions\n",
    "predictions = rf_model.transform(test_df)\n",
    "\n",
    "# Evaluate the model\n",
    "accuracy = evaluator.evaluate(predictions)\n",
    "\n",
    "# Compute other metrics like F1-score, precision, and recall\n",
    "f1_evaluator = MulticlassClassificationEvaluator(\n",
    "    labelCol=\"Exited\", predictionCol=\"prediction\", metricName=\"f1\")\n",
    "f1_score = f1_evaluator.evaluate(predictions)\n",
    "\n",
    "precision_evaluator = MulticlassClassificationEvaluator(\n",
    "    labelCol=\"Exited\", predictionCol=\"prediction\", metricName=\"precisionByLabel\")\n",
    "precision = precision_evaluator.evaluate(predictions)\n",
    "\n",
    "recall_evaluator = MulticlassClassificationEvaluator(\n",
    "    labelCol=\"Exited\", predictionCol=\"prediction\", metricName=\"recallByLabel\")\n",
    "recall = recall_evaluator.evaluate(predictions)\n",
    "\n",
    "# Convert metrics to percentage and round to 1 decimal place\n",
    "accuracy = evaluator.evaluate(predictions) * 100\n",
    "f1_score = f1_evaluator.evaluate(predictions) * 100\n",
    "precision = precision_evaluator.evaluate(predictions) * 100\n",
    "recall = recall_evaluator.evaluate(predictions) * 100\n",
    "\n",
    "print(f\"Accuracy: {accuracy:.1f}%\")\n",
    "print(f\"F1 Score: {f1_score:.1f}%\")\n",
    "print(f\"Precision: {precision:.1f}%\")\n",
    "print(f\"Recall: {recall:.1f}%\")"
   ]
  },
  {
   "cell_type": "code",
   "execution_count": 71,
   "id": "968186df",
   "metadata": {},
   "outputs": [
    {
     "data": {
      "image/png": "[encoded data removed]",
      "text/plain": [
       "<Figure size 400x300 with 1 Axes>"
      ]
     },
     "metadata": {},
     "output_type": "display_data"
    }
   ],
   "source": [
    "# Compute confusion matrix\n",
    "confusion_matrix_df = predictions.groupBy(\"Exited\", \"prediction\").count().toPandas()\n",
    "\n",
    "# Create a confusion matrix in the format needed\n",
    "confusion_matrix = confusion_matrix_df.pivot_table(index='Exited', columns='prediction', values='count', fill_value=0)\n",
    "\n",
    "# Plot confusion matrix\n",
    "plt.figure(figsize=(4, 3))\n",
    "sns.heatmap(confusion_matrix, annot=True, fmt='g', cmap='viridis', cbar=False,\n",
    "            xticklabels=[f'Predicted {i}' for i in confusion_matrix.columns],\n",
    "            yticklabels=[f'Actual {i}' for i in confusion_matrix.index])\n",
    "plt.xlabel('Predicted')\n",
    "plt.ylabel('Actual')\n",
    "plt.title('Confusion Matrix')\n",
    "plt.show()"
   ]
  }
 ],
 "metadata": {
  "kernelspec": {
   "display_name": "Python 3 (ipykernel)",
   "language": "python",
   "name": "python3"
  },
  "language_info": {
   "codemirror_mode": {
    "name": "ipython",
    "version": 3
   },
   "file_extension": ".py",
   "mimetype": "text/x-python",
   "name": "python",
   "nbconvert_exporter": "python",
   "pygments_lexer": "ipython3",
   "version": "3.9.13"
  }
 },
 "nbformat": 4,
 "nbformat_minor": 5
}
